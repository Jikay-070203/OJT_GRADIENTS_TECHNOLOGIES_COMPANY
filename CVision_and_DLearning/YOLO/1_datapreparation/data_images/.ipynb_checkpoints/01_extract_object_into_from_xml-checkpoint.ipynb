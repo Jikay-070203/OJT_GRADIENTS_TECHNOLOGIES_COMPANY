{
 "cells": [
  {
   "cell_type": "code",
   "execution_count": 1,
   "id": "8cc5de57-62dd-4f05-aa69-8409e1f21668",
   "metadata": {},
   "outputs": [],
   "source": [
    "import os\n",
    "from glob import glob # trích xuất đường dẫn cho từng file \n",
    "import pandas as pd \n",
    "from xml.etree import ElementTree as et # đọc và parse thông tin từ XML\n",
    "from functools import reduce #hỗ trợ tính min max...trên 1 string value "
   ]
  },
  {
   "cell_type": "code",
   "execution_count": 2,
   "id": "da06cd84-d349-49e4-9991-4e8c08ee9530",
   "metadata": {},
   "outputs": [],
   "source": [
    "# load all xml files and store in a list \n",
    "xml_list = glob('./train/*.xml')"
   ]
  },
  {
   "cell_type": "code",
   "execution_count": 3,
   "id": "0ecc14e3-5afe-40d0-8085-63a5df2e13ff",
   "metadata": {},
   "outputs": [
    {
     "data": {
      "text/plain": [
       "[]"
      ]
     },
     "execution_count": 3,
     "metadata": {},
     "output_type": "execute_result"
    }
   ],
   "source": [
    "xml_list"
   ]
  },
  {
   "cell_type": "code",
   "execution_count": null,
   "id": "4f12b07e-c95e-4949-a9c1-89346f84daaa",
   "metadata": {},
   "outputs": [],
   "source": []
  }
 ],
 "metadata": {
  "kernelspec": {
   "display_name": "Python 3 (ipykernel)",
   "language": "python",
   "name": "python3"
  },
  "language_info": {
   "codemirror_mode": {
    "name": "ipython",
    "version": 3
   },
   "file_extension": ".py",
   "mimetype": "text/x-python",
   "name": "python",
   "nbconvert_exporter": "python",
   "pygments_lexer": "ipython3",
   "version": "3.10.11"
  }
 },
 "nbformat": 4,
 "nbformat_minor": 5
}
