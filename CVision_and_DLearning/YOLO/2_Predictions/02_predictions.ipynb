{
 "cells": [
  {
   "cell_type": "code",
   "execution_count": 1,
   "id": "de933ecd-655c-4712-b66c-6e5727cf615e",
   "metadata": {},
   "outputs": [],
   "source": [
    "import cv2\n",
    "from yolo_predictions import YOLO_Pred"
   ]
  },
  {
   "cell_type": "code",
   "execution_count": 2,
   "id": "6f5b1680-d03b-4043-9f81-82ee4f51dfa6",
   "metadata": {},
   "outputs": [],
   "source": [
    "yolo = YOLO_Pred('./Model/weights/best.onnx','data.yaml')"
   ]
  },
  {
   "cell_type": "code",
   "execution_count": 3,
   "id": "732497a8-5e2d-4484-a29e-92525e2c0a52",
   "metadata": {},
   "outputs": [],
   "source": [
    "img = cv2.imread('./face.jpg')\n",
    "\n",
    "cv2.imshow('img',img)\n",
    "cv2.waitKey(0)\n",
    "cv2.destroyAllWindows()"
   ]
  },
  {
   "cell_type": "code",
   "execution_count": 4,
   "id": "35eb8e7a-169a-41cd-8e10-1dfd561c6971",
   "metadata": {},
   "outputs": [],
   "source": [
    "# predictions\n",
    "img_pred = yolo.predictions(img)"
   ]
  },
  {
   "cell_type": "code",
   "execution_count": 5,
   "id": "cb56942e-341d-4397-a1e3-69b5f6d3d772",
   "metadata": {},
   "outputs": [],
   "source": [
    "cv2.imshow('prediction image',img_pred)\n",
    "cv2.waitKey(0)\n",
    "cv2.destroyAllWindows()"
   ]
  },
  {
   "cell_type": "markdown",
   "id": "6c49134b-dccd-4710-9058-fe380b526bbf",
   "metadata": {},
   "source": [
    "## Real Time Object Detection"
   ]
  },
  {
   "cell_type": "code",
   "execution_count": null,
   "id": "0e373c81-1937-4282-b13a-f81160f1be59",
   "metadata": {},
   "outputs": [],
   "source": [
    "cap = cv2.VideoCapture('test.mp4')\n",
    "\n",
    "\n",
    "while True:\n",
    "    ret, frame = cap.read()\n",
    "    if ret == False:\n",
    "        print('unable to read video')\n",
    "        break\n",
    "        \n",
    "    pred_image = yolo.predictions(frame)\n",
    "    \n",
    "    cv2.imshow('YOLO',pred_image)\n",
    "    if cv2.waitKey(1) == 27:\n",
    "        break\n",
    "        \n",
    "cv2.destroyAllWindows()\n",
    "cap.release()"
   ]
  }
 ],
 "metadata": {
  "kernelspec": {
   "display_name": "Python 3 (ipykernel)",
   "language": "python",
   "name": "python3"
  },
  "language_info": {
   "codemirror_mode": {
    "name": "ipython",
    "version": 3
   },
   "file_extension": ".py",
   "mimetype": "text/x-python",
   "name": "python",
   "nbconvert_exporter": "python",
   "pygments_lexer": "ipython3",
   "version": "3.10.11"
  }
 },
 "nbformat": 4,
 "nbformat_minor": 5
}
